{
 "cells": [
  {
   "cell_type": "code",
   "execution_count": 1,
   "id": "543ba418-d738-4af3-96a5-e1b64646c0cc",
   "metadata": {},
   "outputs": [],
   "source": [
    "import numpy as np"
   ]
  },
  {
   "cell_type": "code",
   "execution_count": 11,
   "id": "d975cf80-d8e1-446b-ae9f-9c5387c7bbc2",
   "metadata": {},
   "outputs": [],
   "source": [
    "import pandas as pd"
   ]
  },
  {
   "cell_type": "code",
   "execution_count": 18,
   "id": "4bbb54d5-63af-4aac-b69b-3b96166bcf1c",
   "metadata": {},
   "outputs": [],
   "source": [
    "a = np.array([[1,2,3,4],[5,6,7,8]])\n"
   ]
  },
  {
   "cell_type": "markdown",
   "id": "9ce42498-2c19-4718-9854-3d3eb74e7ee6",
   "metadata": {},
   "source": [
    "declaring a array\n"
   ]
  },
  {
   "cell_type": "code",
   "execution_count": 20,
   "id": "6e3e34ee-c656-4f9d-81e5-84af1a386dac",
   "metadata": {},
   "outputs": [
    {
     "name": "stdout",
     "output_type": "stream",
     "text": [
      "2\n"
     ]
    }
   ],
   "source": [
    "print(a[0][1])"
   ]
  },
  {
   "cell_type": "markdown",
   "id": "cdc5156b-f152-443b-84bd-cf2a1ed30fd1",
   "metadata": {},
   "source": [
    "print the elements"
   ]
  },
  {
   "cell_type": "markdown",
   "id": "5da63d68-19a1-4189-978f-1bdbda88f6cf",
   "metadata": {},
   "source": [
    "arrays can be 1D 2D or 3D"
   ]
  },
  {
   "cell_type": "code",
   "execution_count": 22,
   "id": "042adabe-5926-4c38-8114-ea770469a426",
   "metadata": {},
   "outputs": [
    {
     "data": {
      "text/plain": [
       "array([0., 0.])"
      ]
     },
     "execution_count": 22,
     "metadata": {},
     "output_type": "execute_result"
    }
   ],
   "source": [
    "np.zeros(2)\n"
   ]
  },
  {
   "cell_type": "code",
   "execution_count": 23,
   "id": "1485b08e-7ba0-431a-ba68-3e913adf4950",
   "metadata": {},
   "outputs": [
    {
     "data": {
      "text/plain": [
       "array([1., 1.])"
      ]
     },
     "execution_count": 23,
     "metadata": {},
     "output_type": "execute_result"
    }
   ],
   "source": [
    "np.empty(2) \n",
    "np.ones(2)"
   ]
  },
  {
   "cell_type": "code",
   "execution_count": 27,
   "id": "732508c0-2199-4f6a-8f6a-d1baae93271d",
   "metadata": {},
   "outputs": [
    {
     "data": {
      "text/plain": [
       "array([0, 1, 2, 3])"
      ]
     },
     "execution_count": 27,
     "metadata": {},
     "output_type": "execute_result"
    }
   ],
   "source": [
    "np.arange(4)"
   ]
  },
  {
   "cell_type": "code",
   "execution_count": 28,
   "id": "7213437a-647e-4f15-b910-1daf00ccd6d7",
   "metadata": {},
   "outputs": [],
   "source": [
    "arr = np.array([2,1,5,3,7,6,8])"
   ]
  },
  {
   "cell_type": "code",
   "execution_count": 29,
   "id": "b9bcdf25-c13e-4c3f-8ccc-1541197d0ddd",
   "metadata": {},
   "outputs": [
    {
     "data": {
      "text/plain": [
       "array([1, 2, 3, 5, 6, 7, 8])"
      ]
     },
     "execution_count": 29,
     "metadata": {},
     "output_type": "execute_result"
    }
   ],
   "source": [
    "np.sort(arr)"
   ]
  },
  {
   "cell_type": "markdown",
   "id": "fe456021-8ca8-48b4-87cb-377f7dd25c07",
   "metadata": {},
   "source": [
    "to sort the array"
   ]
  },
  {
   "cell_type": "code",
   "execution_count": 30,
   "id": "8140ddf1-4ab7-49be-8dd0-8aa6b16644de",
   "metadata": {},
   "outputs": [],
   "source": [
    "a = np.array([1,2,4,3,1,6,9,4])\n",
    "b = np.array([6,3,6,9,1,6,2,8])"
   ]
  },
  {
   "cell_type": "code",
   "execution_count": 32,
   "id": "37db51a2-abbd-472a-912b-ad27f33aa81e",
   "metadata": {},
   "outputs": [
    {
     "data": {
      "text/plain": [
       "array([1, 2, 4, 3, 1, 6, 9, 4, 6, 3, 6, 9, 1, 6, 2, 8])"
      ]
     },
     "execution_count": 32,
     "metadata": {},
     "output_type": "execute_result"
    }
   ],
   "source": [
    "np.concatenate((a,b))"
   ]
  },
  {
   "cell_type": "markdown",
   "id": "7fe2ccc9-193a-41e4-a4a0-0fba7745f1b9",
   "metadata": {},
   "source": [
    "to merge to arrays "
   ]
  },
  {
   "cell_type": "code",
   "execution_count": 33,
   "id": "fab0df3a-b438-4968-b983-fd6139984c27",
   "metadata": {},
   "outputs": [],
   "source": [
    "i = np.array([[6, 8], [4, 8]])\n",
    "j = np.array([[1, 8]])"
   ]
  },
  {
   "cell_type": "code",
   "execution_count": 34,
   "id": "35199e63-9d37-482c-9c8a-3851eb42ed18",
   "metadata": {},
   "outputs": [
    {
     "data": {
      "text/plain": [
       "array([[6, 8],\n",
       "       [4, 8],\n",
       "       [1, 8]])"
      ]
     },
     "execution_count": 34,
     "metadata": {},
     "output_type": "execute_result"
    }
   ],
   "source": [
    "np.concatenate((i,j),axis=0)"
   ]
  },
  {
   "cell_type": "code",
   "execution_count": 37,
   "id": "032a6d7f-3dc2-4aa7-a97a-c9c152e8ddad",
   "metadata": {},
   "outputs": [],
   "source": [
    "x = a.reshape(4,2)"
   ]
  },
  {
   "cell_type": "code",
   "execution_count": 39,
   "id": "0ffd4086-16f7-407c-89a4-93dba22ff122",
   "metadata": {},
   "outputs": [
    {
     "name": "stdout",
     "output_type": "stream",
     "text": [
      "[[1 2]\n",
      " [4 3]\n",
      " [1 6]\n",
      " [9 4]]\n"
     ]
    }
   ],
   "source": [
    "print(x)"
   ]
  },
  {
   "cell_type": "markdown",
   "id": "4a93eccc-9267-44bd-9f48-2eb44e7e4137",
   "metadata": {},
   "source": [
    "to rehape array"
   ]
  },
  {
   "cell_type": "code",
   "execution_count": 40,
   "id": "45c4abc8-62b5-4c46-930a-0c27a9ff91e6",
   "metadata": {},
   "outputs": [
    {
     "data": {
      "text/plain": [
       "30"
      ]
     },
     "execution_count": 40,
     "metadata": {},
     "output_type": "execute_result"
    }
   ],
   "source": [
    "a.sum()"
   ]
  },
  {
   "cell_type": "markdown",
   "id": "796f6d99-ab9d-4363-9b41-8e585c6b78ed",
   "metadata": {},
   "source": [
    "to sum the elements of the array you can also sum based on index"
   ]
  },
  {
   "cell_type": "code",
   "execution_count": 42,
   "id": "1297bf71-d392-47a6-af23-5936de2515c9",
   "metadata": {},
   "outputs": [
    {
     "data": {
      "text/plain": [
       "array([14, 12])"
      ]
     },
     "execution_count": 42,
     "metadata": {},
     "output_type": "execute_result"
    }
   ],
   "source": [
    "i.sum(axis=1)"
   ]
  },
  {
   "cell_type": "code",
   "execution_count": 43,
   "id": "8f9ef529-7dc7-42f5-80f4-b591fcfd91eb",
   "metadata": {},
   "outputs": [
    {
     "data": {
      "text/plain": [
       "9"
      ]
     },
     "execution_count": 43,
     "metadata": {},
     "output_type": "execute_result"
    }
   ],
   "source": [
    "a.max()"
   ]
  },
  {
   "cell_type": "code",
   "execution_count": 46,
   "id": "cf4bb24a-af58-4c1b-8563-b28cca6146a6",
   "metadata": {},
   "outputs": [
    {
     "data": {
      "text/plain": [
       "1"
      ]
     },
     "execution_count": 46,
     "metadata": {},
     "output_type": "execute_result"
    }
   ],
   "source": [
    "a.min()"
   ]
  },
  {
   "cell_type": "code",
   "execution_count": 45,
   "id": "6557a24a-07fb-44e9-8232-05e5deea4c5b",
   "metadata": {},
   "outputs": [
    {
     "data": {
      "text/plain": [
       "3.75"
      ]
     },
     "execution_count": 45,
     "metadata": {},
     "output_type": "execute_result"
    }
   ],
   "source": [
    "a.mean()"
   ]
  },
  {
   "cell_type": "markdown",
   "id": "f110838d-0120-415e-a88c-3b9c0db546ea",
   "metadata": {},
   "source": [
    "broadcasting "
   ]
  },
  {
   "cell_type": "code",
   "execution_count": 47,
   "id": "1dd74670-46b1-49fc-8f49-a52afa294592",
   "metadata": {},
   "outputs": [
    {
     "data": {
      "text/plain": [
       "array([[12, 16],\n",
       "       [ 8, 16]])"
      ]
     },
     "execution_count": 47,
     "metadata": {},
     "output_type": "execute_result"
    }
   ],
   "source": [
    "i*2"
   ]
  },
  {
   "cell_type": "code",
   "execution_count": 48,
   "id": "5df46ecc-7419-4656-a33e-8f1e4c81c5d6",
   "metadata": {},
   "outputs": [],
   "source": [
    "k = np.random.default_rng()"
   ]
  },
  {
   "cell_type": "code",
   "execution_count": 51,
   "id": "b5857e4a-3b7f-4662-a34f-48e3946608c5",
   "metadata": {},
   "outputs": [
    {
     "data": {
      "text/plain": [
       "array([0.18185084, 0.37438411, 0.07100518, 0.15384983, 0.44846791,\n",
       "       0.06644418, 0.88653274, 0.80830399, 0.90390868, 0.61863665,\n",
       "       0.22438683, 0.0211429 , 0.76998116, 0.44733315, 0.81345597])"
      ]
     },
     "execution_count": 51,
     "metadata": {},
     "output_type": "execute_result"
    }
   ],
   "source": [
    "k.random(15)"
   ]
  },
  {
   "cell_type": "code",
   "execution_count": null,
   "id": "a845debe-f44d-47c6-a383-fe086c5469ac",
   "metadata": {},
   "outputs": [],
   "source": []
  },
  {
   "cell_type": "markdown",
   "id": "64bdf8ae-6a1a-4145-83fb-142451dccfd2",
   "metadata": {},
   "source": [
    "to create random elements in array"
   ]
  },
  {
   "cell_type": "code",
   "execution_count": 54,
   "id": "33358297-42e6-4b56-b319-56b18f961a47",
   "metadata": {},
   "outputs": [
    {
     "name": "stdout",
     "output_type": "stream",
     "text": [
      "[1 2 3 4 6 9]\n"
     ]
    }
   ],
   "source": [
    "unique_values = np.unique(a)\n",
    "print(unique_values)"
   ]
  },
  {
   "cell_type": "markdown",
   "id": "43395da1-568d-4801-ba1e-c6a2836d6225",
   "metadata": {},
   "source": [
    "to print unique values of array"
   ]
  },
  {
   "cell_type": "code",
   "execution_count": 55,
   "id": "d35f113d-7bd5-4faf-bea0-ff3ec8e7078a",
   "metadata": {},
   "outputs": [
    {
     "name": "stdout",
     "output_type": "stream",
     "text": [
      "[1 2 4 3 1 6 9 4]\n"
     ]
    }
   ],
   "source": [
    "np.flip(a)\n",
    "print(a)"
   ]
  },
  {
   "cell_type": "markdown",
   "id": "88a6d9ff-9359-4c6a-a994-95621a62829b",
   "metadata": {},
   "source": [
    "to reverse a array"
   ]
  },
  {
   "cell_type": "code",
   "execution_count": 59,
   "id": "f9d35957-0482-4abb-bade-d23ca1c931bb",
   "metadata": {},
   "outputs": [
    {
     "data": {
      "text/plain": [
       "150"
      ]
     },
     "execution_count": 59,
     "metadata": {},
     "output_type": "execute_result"
    }
   ],
   "source": [
    "np.dot(a,b)"
   ]
  },
  {
   "cell_type": "code",
   "execution_count": 65,
   "id": "d7cf2d6a-2f8b-4da5-83ae-4ed198f44b35",
   "metadata": {},
   "outputs": [
    {
     "data": {
      "text/plain": [
       "array([0.63586762, 0.43711832, 0.19459954, 0.12517209, 0.03349065,\n",
       "       0.94321539, 0.50960225, 0.53520644, 0.27223384, 0.43986498,\n",
       "       0.93488178, 0.12577159, 0.8655497 , 0.31061563, 0.83026544,\n",
       "       0.85661482, 0.71400778, 0.47684165, 0.6066012 , 0.71770043])"
      ]
     },
     "execution_count": 65,
     "metadata": {},
     "output_type": "execute_result"
    }
   ],
   "source": [
    "np.random.rand(20)"
   ]
  },
  {
   "cell_type": "code",
   "execution_count": null,
   "id": "23e66845-5f7c-4d08-af4e-24552d74c7ae",
   "metadata": {},
   "outputs": [],
   "source": []
  },
  {
   "cell_type": "code",
   "execution_count": 64,
   "id": "2f1031ea-8a8e-49e7-9b78-798291b1959d",
   "metadata": {},
   "outputs": [
    {
     "data": {
      "text/plain": [
       "array([-0.6561233 , -1.25855177,  0.8556286 , -0.71810239, -0.34372602,\n",
       "        0.693287  ,  0.8873775 , -0.04075605, -0.17830935,  0.78152521])"
      ]
     },
     "execution_count": 64,
     "metadata": {},
     "output_type": "execute_result"
    }
   ],
   "source": [
    "np.random.randn(10)"
   ]
  },
  {
   "cell_type": "code",
   "execution_count": 63,
   "id": "9d9dcfc7-3323-49e6-8f8b-7e165eacfd59",
   "metadata": {},
   "outputs": [
    {
     "data": {
      "text/plain": [
       "4"
      ]
     },
     "execution_count": 63,
     "metadata": {},
     "output_type": "execute_result"
    }
   ],
   "source": [
    "np.random.randint(5)"
   ]
  },
  {
   "cell_type": "code",
   "execution_count": 66,
   "id": "04281179-1571-4bac-b181-fa96e3330c86",
   "metadata": {},
   "outputs": [
    {
     "data": {
      "text/plain": [
       "6"
      ]
     },
     "execution_count": 66,
     "metadata": {},
     "output_type": "execute_result"
    }
   ],
   "source": [
    "np.argmax(a)"
   ]
  },
  {
   "cell_type": "code",
   "execution_count": 67,
   "id": "19e38f06-f535-4fee-b47d-543dfc931753",
   "metadata": {},
   "outputs": [
    {
     "data": {
      "text/plain": [
       "0"
      ]
     },
     "execution_count": 67,
     "metadata": {},
     "output_type": "execute_result"
    }
   ],
   "source": [
    "np.argmin(a)"
   ]
  },
  {
   "cell_type": "code",
   "execution_count": null,
   "id": "baa38ef1-3508-4b11-bccc-0fd1884755a9",
   "metadata": {},
   "outputs": [],
   "source": []
  },
  {
   "cell_type": "code",
   "execution_count": null,
   "id": "d6ad643e-3768-4211-95e5-22da2e2bf811",
   "metadata": {},
   "outputs": [],
   "source": []
  },
  {
   "cell_type": "code",
   "execution_count": null,
   "id": "a8677f92-1913-4026-87b4-0ea5ab228d83",
   "metadata": {},
   "outputs": [],
   "source": []
  },
  {
   "cell_type": "code",
   "execution_count": null,
   "id": "b996f5bc-90b4-4c5c-a939-c265d5af12af",
   "metadata": {},
   "outputs": [],
   "source": []
  },
  {
   "cell_type": "code",
   "execution_count": null,
   "id": "dbce1b38-8b69-4131-bf56-aaff61b51853",
   "metadata": {},
   "outputs": [],
   "source": []
  },
  {
   "cell_type": "code",
   "execution_count": null,
   "id": "592e065d-c527-44a2-b353-01a6ab847d42",
   "metadata": {},
   "outputs": [],
   "source": []
  },
  {
   "cell_type": "code",
   "execution_count": null,
   "id": "524afcb0-8bff-423f-9e4b-e32cfcad9bdc",
   "metadata": {},
   "outputs": [],
   "source": []
  },
  {
   "cell_type": "code",
   "execution_count": null,
   "id": "7e740ecc-2921-44d5-993a-25f129ba106b",
   "metadata": {},
   "outputs": [],
   "source": []
  },
  {
   "cell_type": "code",
   "execution_count": null,
   "id": "0f236d01-2338-4f80-985f-e190253241c8",
   "metadata": {},
   "outputs": [],
   "source": []
  },
  {
   "cell_type": "code",
   "execution_count": null,
   "id": "7f1ba5f2-ea88-4936-bcce-7c2b0ee3d0b1",
   "metadata": {},
   "outputs": [],
   "source": []
  },
  {
   "cell_type": "code",
   "execution_count": null,
   "id": "96041c74-6d5d-480d-86a8-7140fb955136",
   "metadata": {},
   "outputs": [],
   "source": []
  },
  {
   "cell_type": "code",
   "execution_count": null,
   "id": "33edf357-c42f-4c3d-9bbb-02dc1e9ecad9",
   "metadata": {},
   "outputs": [],
   "source": []
  },
  {
   "cell_type": "code",
   "execution_count": null,
   "id": "73067640-fc75-4f29-a2ec-2a14de99bcc8",
   "metadata": {},
   "outputs": [],
   "source": []
  },
  {
   "cell_type": "code",
   "execution_count": null,
   "id": "3ee4ed5b-dba2-404b-8c7f-d51fa954b9e6",
   "metadata": {},
   "outputs": [],
   "source": []
  }
 ],
 "metadata": {
  "kernelspec": {
   "display_name": "Python 3 (ipykernel)",
   "language": "python",
   "name": "python3"
  },
  "language_info": {
   "codemirror_mode": {
    "name": "ipython",
    "version": 3
   },
   "file_extension": ".py",
   "mimetype": "text/x-python",
   "name": "python",
   "nbconvert_exporter": "python",
   "pygments_lexer": "ipython3",
   "version": "3.12.1"
  }
 },
 "nbformat": 4,
 "nbformat_minor": 5
}
