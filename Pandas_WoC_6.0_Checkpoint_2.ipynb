{
  "nbformat": 4,
  "nbformat_minor": 0,
  "metadata": {
    "colab": {
      "provenance": [],
      "authorship_tag": "ABX9TyODhsnfqGpxKLi66B3jxAdE",
      "include_colab_link": true
    },
    "kernelspec": {
      "name": "python3",
      "display_name": "Python 3"
    },
    "language_info": {
      "name": "python"
    }
  },
  "cells": [
    {
      "cell_type": "markdown",
      "metadata": {
        "id": "view-in-github",
        "colab_type": "text"
      },
      "source": [
        "<a href=\"https://colab.research.google.com/github/Devang3000/WoC6.0-DL-image-classification-DEVANG-PATHAK/blob/main/Pandas_WoC_6.0_Checkpoint_2.ipynb\" target=\"_parent\"><img src=\"https://colab.research.google.com/assets/colab-badge.svg\" alt=\"Open In Colab\"/></a>"
      ]
    },
    {
      "cell_type": "code",
      "execution_count": 1,
      "metadata": {
        "id": "oNDygZqhJRtM"
      },
      "outputs": [],
      "source": [
        "import numpy as np\n",
        "import pandas as pd\n"
      ]
    },
    {
      "cell_type": "markdown",
      "source": [
        "1.) read the csv files and add them to data frames"
      ],
      "metadata": {
        "id": "sDFIFudmfb10"
      }
    },
    {
      "cell_type": "code",
      "source": [
        "Car_path = '/content/CarPrice_Assignment.csv'\n",
        "Youtube_path = '/content/Youtube.csv'\n",
        "Weather_path = '/content/weather.csv'"
      ],
      "metadata": {
        "id": "G11hLlpEae4B"
      },
      "execution_count": 7,
      "outputs": []
    },
    {
      "cell_type": "markdown",
      "source": [
        "used latin encoding to read the youtube file\n"
      ],
      "metadata": {
        "id": "kcMdrImOg_pZ"
      }
    },
    {
      "cell_type": "code",
      "source": [
        "df_car = pd.read_csv(Car_path)\n",
        "df_youtube = pd.read_csv(Youtube_path, encoding='latin1')\n",
        "df_weather = pd.read_csv(Weather_path)"
      ],
      "metadata": {
        "id": "qrRLoiu3gmTG"
      },
      "execution_count": 12,
      "outputs": []
    },
    {
      "cell_type": "markdown",
      "source": [
        "diplay the dataframes\n"
      ],
      "metadata": {
        "id": "SFVJEjDvfqFF"
      }
    },
    {
      "cell_type": "code",
      "source": [
        "df_car.head(), df_youtube.head(), df_weather.head()"
      ],
      "metadata": {
        "colab": {
          "base_uri": "https://localhost:8080/"
        },
        "id": "A1Huu55vfCg8",
        "outputId": "513ddbc3-fe38-40a8-cacf-eb08b6480767"
      },
      "execution_count": 16,
      "outputs": [
        {
          "output_type": "execute_result",
          "data": {
            "text/plain": [
              "(   car_ID  symboling                   CarName fueltype aspiration doornumber  \\\n",
              " 0       1          3        alfa-romero giulia      gas        std        two   \n",
              " 1       2          3       alfa-romero stelvio      gas        std        two   \n",
              " 2       3          1  alfa-romero Quadrifoglio      gas        std        two   \n",
              " 3       4          2               audi 100 ls      gas        std       four   \n",
              " 4       5          2                audi 100ls      gas        std       four   \n",
              " \n",
              "        carbody drivewheel enginelocation  wheelbase  ...  enginesize  \\\n",
              " 0  convertible        rwd          front       88.6  ...         130   \n",
              " 1  convertible        rwd          front       88.6  ...         130   \n",
              " 2    hatchback        rwd          front       94.5  ...         152   \n",
              " 3        sedan        fwd          front       99.8  ...         109   \n",
              " 4        sedan        4wd          front       99.4  ...         136   \n",
              " \n",
              "    fuelsystem  boreratio  stroke compressionratio horsepower  peakrpm citympg  \\\n",
              " 0        mpfi       3.47    2.68              9.0        111     5000      21   \n",
              " 1        mpfi       3.47    2.68              9.0        111     5000      21   \n",
              " 2        mpfi       2.68    3.47              9.0        154     5000      19   \n",
              " 3        mpfi       3.19    3.40             10.0        102     5500      24   \n",
              " 4        mpfi       3.19    3.40              8.0        115     5500      18   \n",
              " \n",
              "    highwaympg    price  \n",
              " 0          27  13495.0  \n",
              " 1          27  16500.0  \n",
              " 2          26  16500.0  \n",
              " 3          30  13950.0  \n",
              " 4          22  17450.0  \n",
              " \n",
              " [5 rows x 26 columns],\n",
              "                                           Video Link Video Views  \\\n",
              " 0        https://www.youtube.com/watch?v=_0fUOJ55gis     146,059   \n",
              " 1        https://www.youtube.com/watch?v=_70MSLPRfZI     231,969   \n",
              " 2  https://www.youtube.com/watch?v=_8gfCdt3H00&t=87s         878   \n",
              " 3        https://www.youtube.com/watch?v=_CkFNJgKsFs       9,965   \n",
              " 4        https://www.youtube.com/watch?v=_GFkHA5EZdE  39,780,561   \n",
              " \n",
              "                                          Video Title  \\\n",
              " 0    Samse - Didupe Off-road Royal Enfield Himalayan   \n",
              " 1                           Bhoom Baddhal Web Series   \n",
              " 2  Customer Psychology, Four Views Of Consumer De...   \n",
              " 3     Top countries with proven natural gas reserves   \n",
              " 4                     73 Questions With Selena Gomez   \n",
              " \n",
              "                                          Channel URL Creator Name  \\\n",
              " 0                https://www.youtube.com/c/sriharick   srihari ck   \n",
              " 1         https://www.youtube.com/c/ChaibisketTelugu  Chai Bisket   \n",
              " 2  https://www.youtube.com/channel/UCcIUnCsBfONvb...  Virda Warsi   \n",
              " 3                 https://www.youtube.com/c/trtworld          TRT   \n",
              " 4                                    Vogue - YouTube        Vogue   \n",
              " \n",
              "   Creator Gender Total Channel Subcribers Total Chanel Views  \\\n",
              " 0           Male                    40200            7964284   \n",
              " 1           Male                   920000          137535681   \n",
              " 2         Female                      458              72945   \n",
              " 3            NaN                  1680000          541653219   \n",
              " 4            NaN                 12100000         3600496171   \n",
              " \n",
              "   Duration of Video Duration in Seconds  ... Video Description  Hashtags  \\\n",
              " 0         00:30:41             1,841.00  ...               Yes         0   \n",
              " 1         00:14:24               864.00  ...               Yes         1   \n",
              " 2           0:08:12              492.00  ...               Yes         0   \n",
              " 3           0:01:06               66.00  ...               Yes         0   \n",
              " 4           0:07:40              460.00  ...               Yes         0   \n",
              " \n",
              "   No of Comments Date of the Last Comment Maximum Quality of the Video  \\\n",
              " 0            419                 8/6/2022                         1080   \n",
              " 1            189                6/15/2022                         1080   \n",
              " 2              0                      NaN                          720   \n",
              " 3             77                9/22/2022                         1080   \n",
              " 4          28221                9/23/2022                         1080   \n",
              " \n",
              "    No of Videos the Channel No of Playlist Premiered or Not  \\\n",
              " 0                       462           12.0               No   \n",
              " 1                       251           12.0              Yes   \n",
              " 2                       158            0.0               No   \n",
              " 3                     46509           48.0               No   \n",
              " 4                      2872          113.0               No   \n",
              " \n",
              "    Community Engagement (Posts per week)  Intern Who Collected the Data  \n",
              " 0                                      1                     Akhil Teja  \n",
              " 1                                      2                     Akhil Teja  \n",
              " 2                                      0                    Syed safdar  \n",
              " 3                                     20                    Syed safdar  \n",
              " 4                                      1                    Rahul Singh  \n",
              " \n",
              " [5 rows x 24 columns],\n",
              "    precipitation  temp_max  temp_min  wind  weather\n",
              " 0            0.0      12.8       5.0   4.7  drizzle\n",
              " 1           10.9      10.6       2.8   4.5     rain\n",
              " 2            0.8      11.7       7.2   2.3     rain\n",
              " 3           20.3      12.2       5.6   4.7     rain\n",
              " 4            1.3       8.9       2.8   6.1     rain)"
            ]
          },
          "metadata": {},
          "execution_count": 16
        }
      ]
    },
    {
      "cell_type": "code",
      "source": [
        "# Find Missing Values\n",
        "missing_values_car = df_car.isnull().sum()\n",
        "missing_values_youtube = df_youtube.isnull().sum()\n",
        "missing_values_weather = df_weather.isnull().sum()"
      ],
      "metadata": {
        "id": "136reS-tf0J9"
      },
      "execution_count": 17,
      "outputs": []
    },
    {
      "cell_type": "code",
      "source": [
        "# Display the number of missing values for each column\n",
        "print(\"Number of missing values for each column in df_car:\")\n",
        "print(missing_values_car)\n",
        "\n",
        "print(\"\\nNumber of missing values for each column in df_youtube:\")\n",
        "print(missing_values_youtube)\n",
        "\n",
        "print(\"\\nNumber of missing values for each column in df_weather:\")\n",
        "print(missing_values_weather)\n"
      ],
      "metadata": {
        "colab": {
          "base_uri": "https://localhost:8080/"
        },
        "id": "NpYwiEICjRAi",
        "outputId": "75e75d7c-4ab9-4139-d8c3-d11712b4d0da"
      },
      "execution_count": 18,
      "outputs": [
        {
          "output_type": "stream",
          "name": "stdout",
          "text": [
            "Number of missing values for each column in df_car:\n",
            "car_ID              0\n",
            "symboling           0\n",
            "CarName             0\n",
            "fueltype            0\n",
            "aspiration          0\n",
            "doornumber          0\n",
            "carbody             0\n",
            "drivewheel          0\n",
            "enginelocation      0\n",
            "wheelbase           0\n",
            "carlength           0\n",
            "carwidth            0\n",
            "carheight           0\n",
            "curbweight          0\n",
            "enginetype          0\n",
            "cylindernumber      0\n",
            "enginesize          0\n",
            "fuelsystem          0\n",
            "boreratio           0\n",
            "stroke              0\n",
            "compressionratio    0\n",
            "horsepower          0\n",
            "peakrpm             0\n",
            "citympg             0\n",
            "highwaympg          0\n",
            "price               0\n",
            "dtype: int64\n",
            "\n",
            "Number of missing values for each column in df_youtube:\n",
            "Video Link                                 0\n",
            "Video Views                                0\n",
            "Video Title                                0\n",
            "Channel URL                                0\n",
            "Creator Name                              11\n",
            "Creator Gender                           314\n",
            "Total Channel Subcribers                   0\n",
            "Total Chanel Views                         0\n",
            "Duration of Video                          0\n",
            "Duration in Seconds                        0\n",
            "Date of Video Upload                       0\n",
            "No of Likes                                1\n",
            "Language of the Video                     21\n",
            "Subtitle                                   1\n",
            "Video Description                          0\n",
            "Hashtags                                   0\n",
            "No of Comments                             0\n",
            "Date of the Last Comment                  24\n",
            "Maximum Quality of the Video               0\n",
            "No of Videos the Channel                   0\n",
            "No of Playlist                             9\n",
            "Premiered or Not                           0\n",
            "Community Engagement (Posts per week)      0\n",
            "Intern Who Collected the Data              0\n",
            "dtype: int64\n",
            "\n",
            "Number of missing values for each column in df_weather:\n",
            "precipitation    0\n",
            "temp_max         0\n",
            "temp_min         0\n",
            "wind             0\n",
            "weather          0\n",
            "dtype: int64\n"
          ]
        }
      ]
    },
    {
      "cell_type": "code",
      "source": [
        "# Drop rows with any missing values\n",
        "df_car_no_missing = df_car.dropna()\n",
        "df_youtube_no_missing = df_youtube.dropna()\n",
        "df_weather_no_missing = df_weather.dropna()"
      ],
      "metadata": {
        "id": "rH-tNekvjsVA"
      },
      "execution_count": 19,
      "outputs": []
    },
    {
      "cell_type": "code",
      "source": [
        "# Display the first few rows of the new dataframes\n",
        "print(\"\\nDataFrame df_car after dropping missing values:\")\n",
        "print(df_car_no_missing.head())\n",
        "\n",
        "print(\"\\nDataFrame df_youtube after dropping missing values:\")\n",
        "print(df_youtube_no_missing.head())\n",
        "\n",
        "print(\"\\nDataFrame df_weather after dropping missing values:\")\n",
        "print(df_weather_no_missing.head())"
      ],
      "metadata": {
        "colab": {
          "base_uri": "https://localhost:8080/"
        },
        "id": "xjPUEoqpj2EC",
        "outputId": "e2cace59-a071-4e39-a0b0-594039e307b4"
      },
      "execution_count": 20,
      "outputs": [
        {
          "output_type": "stream",
          "name": "stdout",
          "text": [
            "\n",
            "DataFrame df_car after dropping missing values:\n",
            "   car_ID  symboling                   CarName fueltype aspiration doornumber  \\\n",
            "0       1          3        alfa-romero giulia      gas        std        two   \n",
            "1       2          3       alfa-romero stelvio      gas        std        two   \n",
            "2       3          1  alfa-romero Quadrifoglio      gas        std        two   \n",
            "3       4          2               audi 100 ls      gas        std       four   \n",
            "4       5          2                audi 100ls      gas        std       four   \n",
            "\n",
            "       carbody drivewheel enginelocation  wheelbase  ...  enginesize  \\\n",
            "0  convertible        rwd          front       88.6  ...         130   \n",
            "1  convertible        rwd          front       88.6  ...         130   \n",
            "2    hatchback        rwd          front       94.5  ...         152   \n",
            "3        sedan        fwd          front       99.8  ...         109   \n",
            "4        sedan        4wd          front       99.4  ...         136   \n",
            "\n",
            "   fuelsystem  boreratio  stroke compressionratio horsepower  peakrpm citympg  \\\n",
            "0        mpfi       3.47    2.68              9.0        111     5000      21   \n",
            "1        mpfi       3.47    2.68              9.0        111     5000      21   \n",
            "2        mpfi       2.68    3.47              9.0        154     5000      19   \n",
            "3        mpfi       3.19    3.40             10.0        102     5500      24   \n",
            "4        mpfi       3.19    3.40              8.0        115     5500      18   \n",
            "\n",
            "   highwaympg    price  \n",
            "0          27  13495.0  \n",
            "1          27  16500.0  \n",
            "2          26  16500.0  \n",
            "3          30  13950.0  \n",
            "4          22  17450.0  \n",
            "\n",
            "[5 rows x 26 columns]\n",
            "\n",
            "DataFrame df_youtube after dropping missing values:\n",
            "                                     Video Link Video Views  \\\n",
            "0   https://www.youtube.com/watch?v=_0fUOJ55gis     146,059   \n",
            "1   https://www.youtube.com/watch?v=_70MSLPRfZI     231,969   \n",
            "5   https://www.youtube.com/watch?v=_HwPGXsklyY     257,334   \n",
            "10  https://www.youtube.com/watch?v=0BBROgyHlFE   5,599,742   \n",
            "11  https://www.youtube.com/watch?v=0HheRYQ9ass      25,052   \n",
            "\n",
            "                                          Video Title  \\\n",
            "0     Samse - Didupe Off-road Royal Enfield Himalayan   \n",
            "1                            Bhoom Baddhal Web Series   \n",
            "5                      HERO - Baananchige Oduva Baara   \n",
            "10  ROUNDER GLUTES: 5 Mistakes Keeping Your Butt Flat   \n",
            "11             The BEST Mockups You Will Find Online!   \n",
            "\n",
            "                                    Channel URL         Creator Name  \\\n",
            "0           https://www.youtube.com/c/sriharick           srihari ck   \n",
            "1    https://www.youtube.com/c/ChaibisketTelugu          Chai Bisket   \n",
            "5   https://www.youtube.com/c/RishabShettyFilms  Rishab Shetty Films   \n",
            "10       https://www.youtube.com/c/JeremyEthier        Jeremy Ethier   \n",
            "11                    Satori Graphics - YouTube               Satori   \n",
            "\n",
            "   Creator Gender Total Channel Subcribers Total Chanel Views  \\\n",
            "0            Male                    40200            7964284   \n",
            "1            Male                   920000          137535681   \n",
            "5            Male                   382000          154898226   \n",
            "10           Male                  4690000          511124108   \n",
            "11           Male                   999000           58048539   \n",
            "\n",
            "   Duration of Video Duration in Seconds  ... Video Description  Hashtags  \\\n",
            "0          00:30:41             1,841.00  ...               Yes         0   \n",
            "1          00:14:24               864.00  ...               Yes         1   \n",
            "5          00:06:01               361.00  ...               Yes         1   \n",
            "10         00:09:43               583.00  ...               Yes         0   \n",
            "11           0:05:51              351.00  ...               Yes         0   \n",
            "\n",
            "   No of Comments Date of the Last Comment Maximum Quality of the Video  \\\n",
            "0             419                 8/6/2022                         1080   \n",
            "1             189                6/15/2022                         1080   \n",
            "5             387                4/24/2021                         2160   \n",
            "10           1558               21-09-2022                         1080   \n",
            "11             70                 9/1/2022                         1080   \n",
            "\n",
            "    No of Videos the Channel No of Playlist Premiered or Not  \\\n",
            "0                        462           12.0               No   \n",
            "1                        251           12.0              Yes   \n",
            "5                         94           14.0               No   \n",
            "10                       216            8.0               No   \n",
            "11                       918           76.0               No   \n",
            "\n",
            "    Community Engagement (Posts per week)  Intern Who Collected the Data  \n",
            "0                                       1                     Akhil Teja  \n",
            "1                                       2                     Akhil Teja  \n",
            "5                                       0                     Akhil Teja  \n",
            "10                                      0                        prateek  \n",
            "11                                      2                    Rahul Singh  \n",
            "\n",
            "[5 rows x 24 columns]\n",
            "\n",
            "DataFrame df_weather after dropping missing values:\n",
            "   precipitation  temp_max  temp_min  wind  weather\n",
            "0            0.0      12.8       5.0   4.7  drizzle\n",
            "1           10.9      10.6       2.8   4.5     rain\n",
            "2            0.8      11.7       7.2   2.3     rain\n",
            "3           20.3      12.2       5.6   4.7     rain\n",
            "4            1.3       8.9       2.8   6.1     rain\n"
          ]
        }
      ]
    },
    {
      "cell_type": "code",
      "source": [
        "#drop boreratio , compression ratio , aspiration ,symboling from cars data set as they are not as relevent\n",
        "\n",
        "columns_to_drop = ['boreratio', 'compressionratio', 'aspiration', 'symboling']\n",
        "\n",
        "df_car_dropped = df_car.drop(columns=columns_to_drop)\n",
        "\n",
        "# Display the first few rows of the dataframe after dropping columns, to diaplay only first 5  rows .head is used\n",
        "print(\"DataFrame df_car after dropping  columns:\")\n",
        "print(df_car_dropped.head())\n"
      ],
      "metadata": {
        "colab": {
          "base_uri": "https://localhost:8080/"
        },
        "id": "-ZLFrbF7pZ7m",
        "outputId": "9b376c53-f15f-4122-fa1f-3c70f36c6728"
      },
      "execution_count": 23,
      "outputs": [
        {
          "output_type": "stream",
          "name": "stdout",
          "text": [
            "DataFrame df_car after dropping  columns:\n",
            "   car_ID                   CarName fueltype doornumber      carbody  \\\n",
            "0       1        alfa-romero giulia      gas        two  convertible   \n",
            "1       2       alfa-romero stelvio      gas        two  convertible   \n",
            "2       3  alfa-romero Quadrifoglio      gas        two    hatchback   \n",
            "3       4               audi 100 ls      gas       four        sedan   \n",
            "4       5                audi 100ls      gas       four        sedan   \n",
            "\n",
            "  drivewheel enginelocation  wheelbase  carlength  carwidth  ...  enginetype  \\\n",
            "0        rwd          front       88.6      168.8      64.1  ...        dohc   \n",
            "1        rwd          front       88.6      168.8      64.1  ...        dohc   \n",
            "2        rwd          front       94.5      171.2      65.5  ...        ohcv   \n",
            "3        fwd          front       99.8      176.6      66.2  ...         ohc   \n",
            "4        4wd          front       99.4      176.6      66.4  ...         ohc   \n",
            "\n",
            "   cylindernumber enginesize fuelsystem  stroke horsepower  peakrpm  citympg  \\\n",
            "0            four        130       mpfi    2.68        111     5000       21   \n",
            "1            four        130       mpfi    2.68        111     5000       21   \n",
            "2             six        152       mpfi    3.47        154     5000       19   \n",
            "3            four        109       mpfi    3.40        102     5500       24   \n",
            "4            five        136       mpfi    3.40        115     5500       18   \n",
            "\n",
            "   highwaympg    price  \n",
            "0          27  13495.0  \n",
            "1          27  16500.0  \n",
            "2          26  16500.0  \n",
            "3          30  13950.0  \n",
            "4          22  17450.0  \n",
            "\n",
            "[5 rows x 22 columns]\n"
          ]
        }
      ]
    }
  ]
}